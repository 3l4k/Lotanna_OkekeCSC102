{
 "cells": [
  {
   "cell_type": "markdown",
   "metadata": {},
   "source": [
    "# Functions"
   ]
  },
  {
   "cell_type": "markdown",
   "metadata": {},
   "source": [
    "> A **function** is a named sequence of statements that performs a computation.\n",
    "> When defined, you specify the **name** and the sequence of statements.\n",
    "> Later, you **call the function** by name"
   ]
  },
  {
   "cell_type": "markdown",
   "metadata": {},
   "source": [
    ">> 1.  **A Python function that takes a list and returns a new list with unique elements of the first list.**"
   ]
  },
  {
   "cell_type": "code",
   "execution_count": 3,
   "metadata": {},
   "outputs": [
    {
     "name": "stdout",
     "output_type": "stream",
     "text": [
      "Enter a list: aaqsdd\n",
      "['a', 'q', 's', 'd']\n"
     ]
    }
   ],
   "source": [
    "def unique_list(l):\n",
    "  x = []\n",
    "  for a in l:\n",
    "    if a not in x:\n",
    "      x.append(a)\n",
    "  return x\n",
    "\n",
    "print(unique_list(input('Enter a list: '))) "
   ]
  },
  {
   "cell_type": "markdown",
   "metadata": {},
   "source": [
    ">> 2. **A Python function that reverses a string.**"
   ]
  },
  {
   "cell_type": "code",
   "execution_count": 13,
   "metadata": {},
   "outputs": [
    {
     "name": "stdout",
     "output_type": "stream",
     "text": [
      " Enter a string eedd\n",
      "ddee\n"
     ]
    }
   ],
   "source": [
    "def string_reverse(str1):\n",
    "\n",
    "    rstr1 = ''\n",
    "    index = len(str1)\n",
    "    while index > 0:\n",
    "        rstr1 += str1[ index - 1 ]\n",
    "        index = index - 1\n",
    "    return rstr1\n",
    "print(string_reverse(input('Enter a string: ')))"
   ]
  },
  {
   "cell_type": "code",
   "execution_count": 76,
   "metadata": {},
   "outputs": [
    {
     "name": "stdout",
     "output_type": "stream",
     "text": [
      "Enter a string: qwe\n",
      "ewq\n"
     ]
    }
   ],
   "source": [
    "# string = input('Enter a string: ')\n",
    "def reverse(string):\n",
    "    lent = len(string)\n",
    "    lst = ''\n",
    "#     lst = list(string)\n",
    "    count1 = -1\n",
    "    count2 = lent\n",
    "    for a in string:\n",
    "        for b in a:\n",
    "            count1 = count1 + 1\n",
    "            count2 = count2 - 1\n",
    "            for c in range(0,lent):\n",
    "                if c == count1:\n",
    "                    lst = lst + string[count2]\n",
    "    print(lst)\n",
    "reverse(input('Enter a string: '))\n",
    "# print(reverse(input('Enter a string: '))"
   ]
  },
  {
   "cell_type": "markdown",
   "metadata": {},
   "source": [
    ">> 3.  **A Python function that checks whether a passed string is palindrome or not.**"
   ]
  },
  {
   "cell_type": "code",
   "execution_count": 1,
   "metadata": {},
   "outputs": [
    {
     "name": "stdout",
     "output_type": "stream",
     "text": [
      "Enter a word: razar\n",
      "True\n"
     ]
    }
   ],
   "source": [
    "def isPalindrome(string):\n",
    "    left_pos = 0\n",
    "    right_pos = len(string) - 1\n",
    "    \n",
    "    while right_pos >= left_pos:\n",
    "        if not string[left_pos] == string[right_pos]:\n",
    "            return False\n",
    "        left_pos += 1\n",
    "        right_pos -= 1\n",
    "    return True\n",
    "print(isPalindrome(input('Enter a word: '))) "
   ]
  },
  {
   "cell_type": "code",
   "execution_count": 75,
   "metadata": {},
   "outputs": [
    {
     "name": "stdout",
     "output_type": "stream",
     "text": [
      "Enter a word: qweewq\n",
      "True\n"
     ]
    }
   ],
   "source": [
    "def isPalindrome(string):\n",
    "#     lst = list(string)\n",
    "    lent = len(string)\n",
    "    count1 = -1\n",
    "    count2 = lent\n",
    "    for a in string:\n",
    "#         for b in a:\n",
    "            count1 = count1 + 1\n",
    "            count2 = count2 - 1\n",
    "            if not string[count1] == string[count2]:\n",
    "                return False\n",
    "            else:\n",
    "                return True\n",
    "print(isPalindrome(input('Enter a word: '))) "
   ]
  },
  {
   "cell_type": "markdown",
   "metadata": {},
   "source": [
    "# Class Exercises"
   ]
  },
  {
   "cell_type": "markdown",
   "metadata": {},
   "source": [
    "> 1. **Write a shutting down program:**<br>\n",
    ">     a. First, **def** a function, <span style=color:green;>**shut_down**</span>, that takes one argument from the keyboard.<br> \n",
    ">     b. Then, if the <span style=color:green;>**shut_down**</span>  function receives an argument equal to **<span style=color:red;>\"yes\"**</span>, it should return <span style=color:blue;>\"Shutting down\"</span>.<br>\n",
    ">     c. Alternatively, elif argument is equal to <span style=color:red;>**\"no\"**</span>, then the function should return <span style=color:blue;>\"Shutdown aborted\".</span> <br>\n",
    ">     d. Finally, if shut_down gets anything other than those inputs, the function should return <span style=color:blue;>\"Sorry, such argument not welcome here \"</span>."
   ]
  },
  {
   "cell_type": "markdown",
   "metadata": {},
   "source": [
    "> 2. Create a function <span style=color:green;>**showEmployee()**</span> in such a way that it should accept a given number of employee name and salary as input, stores the data in a dictionary, and then save it into a csv file, if any of the following condition is met. <br>\n",
    ">    a. If the salary is greater than **N1,000,000** display employ name and salary in <span style=color:green;>**green color**</span>. <br>\n",
    ">    b. If the salary is greater than **N500,000** and less than N1,000,000 dispaly both employee name and salary in <span style=color:blue;>**blue color**</span>. <br>\n",
    ">    c. If the salary is less than **N500,000** dispaly both employee name and salary in red color.If the salary is missing in the function call display the message **\"Warning: No salary structure for employee\"** in <span style=color:red;>**red color**</span>."
   ]
  },
  {
   "cell_type": "markdown",
   "metadata": {},
   "source": [
    "> 3. **Follow the stpes:**    \n",
    ">       a. First, def a function called **cube** that takes an argument called **number**.<br>\n",
    ">       b. Make that function return the cube of that number (i.e. that number multiplied by itself and multiplied by itself once again).<br>\n",
    ">       c. Define a second function called **by_three** that takes an argument called number. if that number is divisible by 3, **by_three** should call **cube(number)** and return its result. Otherwise, **by_three should** return False. -Check if it works.\n"
   ]
  },
  {
   "cell_type": "markdown",
   "metadata": {},
   "source": [
    "> 4. Write a Python function that accepts a string and calculate the number of upper case letters and lower case letters."
   ]
  },
  {
   "cell_type": "code",
   "execution_count": null,
   "metadata": {},
   "outputs": [],
   "source": [
    "learn dictionaries\n",
    "make a factorial code using a while loop in a function\n",
    "make a set of data in excel\n"
   ]
  },
  {
   "cell_type": "code",
   "execution_count": 101,
   "metadata": {},
   "outputs": [
    {
     "name": "stdout",
     "output_type": "stream",
     "text": [
      "Enter a number 5\n"
     ]
    },
    {
     "data": {
      "text/plain": [
       "120"
      ]
     },
     "execution_count": 101,
     "metadata": {},
     "output_type": "execute_result"
    }
   ],
   "source": [
    "num = int(input('Enter a number '))\n",
    "def fact(num):\n",
    "    result = 1\n",
    "    while num > 0:\n",
    "        result = result*num\n",
    "        num = num - 1\n",
    "    return result\n",
    "fact(num)\n",
    "    "
   ]
  },
  {
   "cell_type": "code",
   "execution_count": 150,
   "metadata": {},
   "outputs": [
    {
     "name": "stdout",
     "output_type": "stream",
     "text": [
      "Enter the number: 24\n"
     ]
    },
    {
     "data": {
      "text/plain": [
       "False"
      ]
     },
     "execution_count": 150,
     "metadata": {},
     "output_type": "execute_result"
    }
   ],
   "source": [
    "num = int(input('Enter the number: '))\n",
    "def prime():\n",
    "    if num < 2:\n",
    "        print(\"1 and numbers less than 1 aren't prime numbers\")\n",
    "    elif num == 2:\n",
    "        return True`\n",
    "    else:\n",
    "        i = 2\n",
    "        while i<num:\n",
    "            if num%i == 0:\n",
    "                return False\n",
    "            else:\n",
    "                return True\n",
    "            i+=1\n",
    "prime()"
   ]
  },
  {
   "cell_type": "code",
   "execution_count": 174,
   "metadata": {},
   "outputs": [
    {
     "name": "stdout",
     "output_type": "stream",
     "text": [
      "Enter a num: 9\n",
      "Enter a num: 6\n",
      "18\n"
     ]
    }
   ],
   "source": [
    "n1 = int(input('Enter a num: '))\n",
    "n2 = int(input('Enter a num: '))\n",
    "mult = n1*n2\n",
    "# rge = mult - 1\n",
    "for a in range(2,mult+1):\n",
    "    if a%n1 == 0 and a%n2 == 0:\n",
    "        b = a\n",
    "        break\n",
    "print(b)"
   ]
  },
  {
   "cell_type": "code",
   "execution_count": 175,
   "metadata": {},
   "outputs": [
    {
     "name": "stdout",
     "output_type": "stream",
     "text": [
      "apppleappple\n"
     ]
    }
   ],
   "source": [
    "a = 'appple'\n",
    "b = a*2\n",
    "print(b)"
   ]
  },
  {
   "cell_type": "code",
   "execution_count": 176,
   "metadata": {},
   "outputs": [],
   "source": [
    "import array"
   ]
  },
  {
   "cell_type": "code",
   "execution_count": 177,
   "metadata": {},
   "outputs": [
    {
     "data": {
      "text/plain": [
       "['ArrayType',\n",
       " '__doc__',\n",
       " '__loader__',\n",
       " '__name__',\n",
       " '__package__',\n",
       " '__spec__',\n",
       " '_array_reconstructor',\n",
       " 'array',\n",
       " 'typecodes']"
      ]
     },
     "execution_count": 177,
     "metadata": {},
     "output_type": "execute_result"
    }
   ],
   "source": [
    "dir(array)"
   ]
  },
  {
   "cell_type": "code",
   "execution_count": 186,
   "metadata": {},
   "outputs": [
    {
     "name": "stdout",
     "output_type": "stream",
     "text": [
      "[['Mon' '18' '20' '22' '17']\n",
      " ['Tue' '11' '18' '21' '18']\n",
      " ['Wed' '15' '21' '20' '19']\n",
      " ['Thu' '11' '20' '22' '21']\n",
      " ['Fri' '18' '17' '23' '22']\n",
      " ['Sat' '12' '22' '20' '18']\n",
      " ['Sun' '13' '15' '19' '16']]\n"
     ]
    }
   ],
   "source": [
    "from numpy import *\n",
    "a = array([['Mon',18,20,22,17],['Tue',11,18,21,18],\n",
    "['Wed',15,21,20,19],['Thu',11,20,22,21],\n",
    "['Fri',18,17,23,22],['Sat',12,22,20,18],\n",
    "['Sun',13,15,19,16]])\n",
    "m = reshape(a,(7,5))\n",
    "print(m)"
   ]
  },
  {
   "cell_type": "code",
   "execution_count": null,
   "metadata": {},
   "outputs": [],
   "source": []
  }
 ],
 "metadata": {
  "kernelspec": {
   "display_name": "Python 3",
   "language": "python",
   "name": "python3"
  },
  "language_info": {
   "codemirror_mode": {
    "name": "ipython",
    "version": 3
   },
   "file_extension": ".py",
   "mimetype": "text/x-python",
   "name": "python",
   "nbconvert_exporter": "python",
   "pygments_lexer": "ipython3",
   "version": "3.8.5"
  }
 },
 "nbformat": 4,
 "nbformat_minor": 4
}
