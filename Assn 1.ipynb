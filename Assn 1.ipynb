{
 "cells": [
  {
   "cell_type": "code",
   "execution_count": 11,
   "metadata": {
    "scrolled": true
   },
   "outputs": [
    {
     "name": "stdout",
     "output_type": "stream",
     "text": [
      "The value of the amount is  46005.11990936967\n"
     ]
    }
   ],
   "source": [
    "#Compound Interest\n",
    "P = 1200\n",
    "R = 0.8\n",
    "n = 4\n",
    "T = 5\n",
    "t = n*T\n",
    "r = R/n\n",
    "s = (1+r)**t\n",
    "#Using the compound interest formula\n",
    "A = P*s\n",
    "print(\"The value of the amount is \", A)"
   ]
  },
  {
   "cell_type": "code",
   "execution_count": 13,
   "metadata": {},
   "outputs": [
    {
     "name": "stdout",
     "output_type": "stream",
     "text": [
      "The value of the amount is  224025.59954684833\n"
     ]
    }
   ],
   "source": [
    "#Annuity Plan\n",
    "P = 1200\n",
    "R = 0.8\n",
    "n = 4\n",
    "T = 5\n",
    "t = n*T\n",
    "r = R/n\n",
    "s = ((1+r)**t)-1\n",
    "#Using the annutiy formula\n",
    "A = P*s/r\n",
    "print(\"The value of the amount is \", A)"
   ]
  },
  {
   "cell_type": "code",
   "execution_count": null,
   "metadata": {},
   "outputs": [],
   "source": []
  },
  {
   "cell_type": "code",
   "execution_count": null,
   "metadata": {},
   "outputs": [],
   "source": []
  }
 ],
 "metadata": {
  "kernelspec": {
   "display_name": "Python 3",
   "language": "python",
   "name": "python3"
  },
  "language_info": {
   "codemirror_mode": {
    "name": "ipython",
    "version": 3
   },
   "file_extension": ".py",
   "mimetype": "text/x-python",
   "name": "python",
   "nbconvert_exporter": "python",
   "pygments_lexer": "ipython3",
   "version": "3.8.5"
  }
 },
 "nbformat": 4,
 "nbformat_minor": 4
}
