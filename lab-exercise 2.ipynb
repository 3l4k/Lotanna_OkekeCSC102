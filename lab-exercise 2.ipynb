{
 "cells": [
  {
   "cell_type": "markdown",
   "metadata": {},
   "source": [
    "# Lotanna Okeke\n",
    "## LAB EXERCISES\n",
    "### 20120612038\n",
    "#### 23/4/21# Lotanna Okeke\n",
    "## LAB EXERCISES\n",
    "### 20120612038\n",
    "#### 23/4/21"
   ]
  },
  {
   "cell_type": "markdown",
   "metadata": {},
   "source": [
    "# EXERCISE 1\n",
    "\n",
    "##### Program toprint the pattern for a number input by the user"
   ]
  },
  {
   "cell_type": "code",
   "execution_count": 10,
   "metadata": {},
   "outputs": [
    {
     "name": "stdout",
     "output_type": "stream",
     "text": [
      "Enter a number to generate its patter = 5\n",
      "1 \n",
      "1 2 \n",
      "1 2 3 \n",
      "1 2 3 4 \n",
      "1 2 3 4 5 \n"
     ]
    }
   ],
   "source": [
    "# The output pattern to be generated is\n",
    "#1\n",
    "#1 2\n",
    "#1 2 3\n",
    "#1 2 3 4\n",
    "#1 2 3 4 5\n",
    "num = int(input('Enter a number to generate its patter = '))\n",
    "for i in range(1, num+1):\n",
    "    for j in range(1, i+1):\n",
    "       print(j, end = \" \") \n",
    "    print()"
   ]
  },
  {
   "cell_type": "markdown",
   "metadata": {},
   "source": [
    "# Exercise 2\n",
    "\n",
    "##### Program to find the prime numbers between 2 and 50 nested for loop"
   ]
  },
  {
   "cell_type": "code",
   "execution_count": 11,
   "metadata": {},
   "outputs": [
    {
     "name": "stdout",
     "output_type": "stream",
     "text": [
      "2 is a prime number\n",
      "3 is a prime number\n",
      "5 is a prime number\n",
      "7 is a prime number\n",
      "11 is a prime number\n",
      "13 is a prime number\n",
      "17 is a prime number\n",
      "19 is a prime number\n",
      "23 is a prime number\n",
      "29 is a prime number\n",
      "31 is a prime number\n",
      "37 is a prime number\n",
      "41 is a prime number\n",
      "43 is a prime number\n",
      "47 is a prime number\n",
      "Bye Bye!!\n"
     ]
    }
   ],
   "source": [
    "#Use of nested loop to find the prime numbers between 2 and 50\n",
    "num = 2\n",
    "for i in range(2, 50):\n",
    "    j=2\n",
    "    while (j <= (i/2)):\n",
    "        if (i % j == 0):#factors found\n",
    "            break #break out while loop\n",
    "        j += 1\n",
    "    if (j > i/j): #no factors found\n",
    "        print(i, \"is a prime number\")\n",
    "print(\"Bye Bye!!\")"
   ]
  },
  {
   "cell_type": "markdown",
   "metadata": {},
   "source": [
    "# Exercise 3\n",
    "\n",
    "##### A program to calculate the factorial of a given number"
   ]
  },
  {
   "cell_type": "code",
   "execution_count": 69,
   "metadata": {},
   "outputs": [
    {
     "name": "stdout",
     "output_type": "stream",
     "text": [
      "Enter a given number: 1\n",
      "Factorial of  1 is  1\n"
     ]
    }
   ],
   "source": [
    "#The following program uses a for loop nested inside an if...else block to calculate the factorial of a given number\n",
    "num = int(input(\"Enter a given number: \"))\n",
    "fact = 1\n",
    "#check if the number is negative, positive or zero\n",
    "if num < 0:\n",
    "    print(\"Sorry, factorial does not exist for negative numbers\")\n",
    "elif num == 0:\n",
    "    print(\"Factorial of 0 is 1\")\n",
    "else:\n",
    "    for i in range(1, num+1):\n",
    "        fact = fact*i\n",
    "    print(\"Factorial of \", num, \"is \", fact)\n",
    "# a = int(num/2)\n",
    "f = range(2,2)\n",
    "for k in f:\n",
    "    print(k)"
   ]
  },
  {
   "cell_type": "markdown",
   "metadata": {},
   "source": [
    "# Exercise IV\n",
    "\n",
    "##### A python program to check if a given number is prime or not."
   ]
  },
  {
   "cell_type": "code",
   "execution_count": 64,
   "metadata": {},
   "outputs": [
    {
     "name": "stdout",
     "output_type": "stream",
     "text": [
      "Enter the number to be checked: 4\n",
      "4 is a prime number\n"
     ]
    }
   ],
   "source": [
    "num = int(input(\"Enter the number to be checked: \"))\n",
    "flag = 0 #presume num is a prime num\n",
    "if num > 1:\n",
    "    for i in range(2, int(num/2)):\n",
    "        if (num % i == 0):\n",
    "            flag = 1#num is not a prime number\n",
    "            break #no need to check any further\n",
    "    if flag == 1:\n",
    "        print(num, \"is not a prime number\")\n",
    "    else:\n",
    "        print(num, \"is a prime number\")\n",
    "else:\n",
    "    print(\"Entered number is less than or equal to 1, please enter another number\")"
   ]
  },
  {
   "cell_type": "markdown",
   "metadata": {},
   "source": [
    "# Exercise V\n",
    "\n",
    "##### Python program to find the factors of a whole number using while loop"
   ]
  },
  {
   "cell_type": "code",
   "execution_count": 1,
   "metadata": {},
   "outputs": [
    {
     "name": "stdout",
     "output_type": "stream",
     "text": [
      "Enter a number to find its factor: 12\n",
      "1, 2, 3, 4, 6, 12 "
     ]
    }
   ],
   "source": [
    "#Find the factors of a number using while loop\n",
    "num = int(input(\"Enter a number to find its factor: \"))\n",
    "print(1, end=', ')#1 is a factor of every number\n",
    "factor = 2\n",
    "while factor <= num/2:\n",
    "    if num % factor == 0:\n",
    "        #the optional parameter end of print function specifies the delimeter\n",
    "        #blank space(' ') to print next value on same line\n",
    "        print(factor, end=\", \")\n",
    "    factor += 1\n",
    "print(num, end = ' ')#Every number is a factor of itself"
   ]
  },
  {
   "cell_type": "markdown",
   "metadata": {},
   "source": [
    "# Trial 1\n",
    "\n",
    "##### Program to get the Max of three numbers without using the max() function"
   ]
  },
  {
   "cell_type": "code",
   "execution_count": 3,
   "metadata": {},
   "outputs": [
    {
     "name": "stdout",
     "output_type": "stream",
     "text": [
      "Enter d first num: 65\n",
      "Enter d second num: 34\n",
      "Enter d third num: 65\n",
      "65\n"
     ]
    }
   ],
   "source": [
    "# Finding the greatest of three numbers without using max\n",
    "a = int(input(\"Enter d first num: \"))\n",
    "b = int(input(\"Enter d second num: \"))\n",
    "c = int(input(\"Enter d third num: \"))\n",
    "d = a-b\n",
    "e = a-c\n",
    "f = b-c\n",
    "if d>=0 and e>=0:\n",
    "    print(a)\n",
    "else:\n",
    "    if d<=0 and f>=0:\n",
    "        print(b)\n",
    "    else:\n",
    "        print(c)"
   ]
  },
  {
   "cell_type": "markdown",
   "metadata": {},
   "source": [
    "# Trial 2\n",
    "\n",
    "##### Getting the GCD of two numbers"
   ]
  },
  {
   "cell_type": "code",
   "execution_count": 109,
   "metadata": {},
   "outputs": [
    {
     "name": "stdout",
     "output_type": "stream",
     "text": [
      "Enter d first num: 35\n",
      "Enter d second num: 45\n",
      "5\n"
     ]
    }
   ],
   "source": [
    "# Finding the GCD of 2 numbers\n",
    "a = int(input(\"Enter d first num: \"))\n",
    "b = int(input(\"Enter d second num: \"))\n",
    "if a==0 or b==0:\n",
    "    print(\"0 is not a natural number\")\n",
    "else:\n",
    "    for c in range(1,a+1):\n",
    "        for e in range(1,b+1):\n",
    "            if a%c == 0 and b%e == 0:\n",
    "                if e == c:\n",
    "                    f=e\n",
    "    print(f)"
   ]
  },
  {
   "cell_type": "markdown",
   "metadata": {},
   "source": [
    "## Trial 3\n",
    "\n",
    "##### Getting the LCM of two numbers"
   ]
  },
  {
   "cell_type": "code",
   "execution_count": 6,
   "metadata": {},
   "outputs": [
    {
     "name": "stdout",
     "output_type": "stream",
     "text": [
      "Enter d first num: 12\n",
      "Enter d second num: 34\n",
      "204\n"
     ]
    }
   ],
   "source": [
    "# Finding the LCM of 2 numbers\n",
    "a = int(input(\"Enter d first num: \"))\n",
    "b = int(input(\"Enter d second num: \"))\n",
    "prod = a*b\n",
    "# d = range(1,a)\n",
    "# e = min(d)\n",
    "# print(e)\n",
    "d = 0\n",
    "for c in range(1, prod+1):\n",
    "    if c%a == 0 and c%b == 0:\n",
    "        d = c\n",
    "        print(d)\n",
    "        break\n",
    "#         print(d)"
   ]
  },
  {
   "cell_type": "markdown",
   "metadata": {},
   "source": [
    "# Trial 4\n",
    "\n",
    "##### Finding the factorial of a number"
   ]
  },
  {
   "cell_type": "code",
   "execution_count": 22,
   "metadata": {},
   "outputs": [
    {
     "name": "stdout",
     "output_type": "stream",
     "text": [
      "The factorial of: 0\n",
      "is 1\n"
     ]
    }
   ],
   "source": [
    "# Factorial of a number\n",
    "a = int(input(\"The factorial of: \"))\n",
    "d = 1\n",
    "if a<0:\n",
    "    print(a, \"is less than 0 and its factorial can't be found\")\n",
    "else:\n",
    "    for b in range(1,a+1):\n",
    "        d = d*b\n",
    "    print(\"is\",d)"
   ]
  },
  {
   "cell_type": "code",
   "execution_count": 73,
   "metadata": {},
   "outputs": [
    {
     "name": "stdout",
     "output_type": "stream",
     "text": [
      "Enter a natural number 45\n",
      "Its a prime number\n"
     ]
    }
   ],
   "source": [
    "a = int(input(\"Enter a natural number \"))\n",
    "if a<2:\n",
    "    print(\"The number entered is <= 1, therefore it can't be a prime number\")\n",
    "elif a==2:\n",
    "    print(\"Its a prime number\")\n",
    "else:\n",
    "    for b in range(2,a):\n",
    "        if a == 2:\n",
    "            break\n",
    "        elif a%b == 0:\n",
    "            print(\"Its not a prime number\")\n",
    "            break\n",
    "        else:\n",
    "            print(\"Its a prime number\")\n",
    "            break"
   ]
  },
  {
   "cell_type": "code",
   "execution_count": null,
   "metadata": {},
   "outputs": [],
   "source": []
  },
  {
   "cell_type": "code",
   "execution_count": null,
   "metadata": {},
   "outputs": [],
   "source": []
  }
 ],
 "metadata": {
  "kernelspec": {
   "display_name": "Python 3",
   "language": "python",
   "name": "python3"
  },
  "language_info": {
   "codemirror_mode": {
    "name": "ipython",
    "version": 3
   },
   "file_extension": ".py",
   "mimetype": "text/x-python",
   "name": "python",
   "nbconvert_exporter": "python",
   "pygments_lexer": "ipython3",
   "version": "3.8.5"
  }
 },
 "nbformat": 4,
 "nbformat_minor": 4
}
