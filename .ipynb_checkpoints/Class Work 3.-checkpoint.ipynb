{
 "cells": [
  {
   "cell_type": "markdown",
   "metadata": {},
   "source": [
    "# Exercise 1"
   ]
  },
  {
   "cell_type": "code",
   "execution_count": 3,
   "metadata": {},
   "outputs": [
    {
     "name": "stdout",
     "output_type": "stream",
     "text": [
      "Enter yes to shutdown and no to not shutdown this systemyes\n",
      "Shutting down\n"
     ]
    }
   ],
   "source": [
    "val = input(\"Enter yes to shutdown and no to not shutdown this system\")\n",
    "def shut_down():\n",
    "    if val == \"yes\":\n",
    "        print(\"Shutting down\")\n",
    "    elif val == \"no\":\n",
    "        print(\"Shutdown aborted\")\n",
    "    else:\n",
    "        print(\"Sorry, such arguement not welcomed here\")\n",
    "shut_down()"
   ]
  },
  {
   "cell_type": "markdown",
   "metadata": {},
   "source": [
    "# Exercise 2"
   ]
  },
  {
   "cell_type": "code",
   "execution_count": 7,
   "metadata": {},
   "outputs": [
    {
     "name": "stdout",
     "output_type": "stream",
     "text": [
      "Enter salary1120000\n",
      "Enter salary2600000\n",
      "Enter salary32000000\n",
      "Enter salary4800000\n",
      "Enter salary540\n",
      "Enter name1andy\n",
      "Enter name2wendy\n",
      "Enter name3sope\n",
      "Enter name4lota\n",
      "Enter name5lala\n",
      "      Names     Salaries\n",
      "0      svfd      1234567\n",
      "1    jhgtfd       765432\n",
      "2  qaswerfg       345678\n",
      "3     kjtgf       756432\n",
      "4   scftyhj  12345678876\n",
      "\u001b[31m Warning: No salary structure for employee\n",
      "\u001b[34m wendy , 600000\n",
      "\u001b[32m sope , 2000000\n",
      "\u001b[34m lota , 800000\n",
      "\u001b[31m Warning: No salary structure for employee\n"
     ]
    }
   ],
   "source": [
    "Salaries = [int(input(\"Enter salary1\")),int(input(\"Enter salary2\")),int(input(\"Enter salary3\")),int(input(\"Enter salary4\")),int(input(\"Enter salary5\"))]\n",
    "Names = [input(\"Enter name1\"), input(\"Enter name2\"), input(\"Enter name3\"), input(\"Enter name4\"), input(\"Enter name5\")]\n",
    "# tab = {\"Names\": Names, \"Salaries\": Salaries}\n",
    "tab\n",
    "import pandas\n",
    "# data = pandas.DataFrame(tab)\n",
    "# print(data)\n",
    "# data.to_excel('data2.xlsx', index=False)\n",
    "import colorama\n",
    "from colorama import Fore, Style\n",
    "# dir(colorama)\n",
    "# print(tab[2])\n",
    "# print(Fore.GREEN, data)\n",
    "def showEmployee():\n",
    "    for loop in range(0,5):\n",
    "        if Salaries[loop] > 1000000:\n",
    "            print(Fore.GREEN, Names[loop],\",\", Salaries[loop])\n",
    "#             print(Fore.GREEN, tab[loop])\n",
    "        if Salaries[loop] >= 500000 and Salaries[loop] <= 1000000:\n",
    "            print(Fore.BLUE, Names[loop],\",\", Salaries[loop])\n",
    "        if Salaries[loop] < 500000:\n",
    "            print(Fore.RED, \"Warning: No salary structure for employee\")\n",
    "    tab = {\"Names\": Names[loop], \"Salaries\": Salaries[loop]}\n",
    "data = pandas.DataFrame(tab)\n",
    "print(data)\n",
    "showEmployee()\n"
   ]
  },
  {
   "cell_type": "markdown",
   "metadata": {},
   "source": []
  },
  {
   "cell_type": "markdown",
   "metadata": {},
   "source": [
    "# Exercise 3"
   ]
  },
  {
   "cell_type": "code",
   "execution_count": 71,
   "metadata": {},
   "outputs": [
    {
     "name": "stdout",
     "output_type": "stream",
     "text": [
      "Enter a number 8\n"
     ]
    },
    {
     "data": {
      "text/plain": [
       "False"
      ]
     },
     "execution_count": 71,
     "metadata": {},
     "output_type": "execute_result"
    }
   ],
   "source": [
    "def cube(number):\n",
    "    return number**3\n",
    "# number = int(input(\"Enter a number \"))\n",
    "# cube(number)\n",
    "# number = int(input(\"Enter a number\"))\n",
    "def by_three():\n",
    "    number = int(input(\"Enter a number \"))\n",
    "    if number%3 == 0:\n",
    "        return cube(number)\n",
    "    else:\n",
    "        return False\n",
    "by_three()"
   ]
  },
  {
   "cell_type": "code",
   "execution_count": 73,
   "metadata": {},
   "outputs": [
    {
     "name": "stdout",
     "output_type": "stream",
     "text": [
      "Enter a word qwE\n"
     ]
    },
    {
     "ename": "TypeError",
     "evalue": "descriptor 'append' for 'list' objects doesn't apply to a 'str' object",
     "output_type": "error",
     "traceback": [
      "\u001b[1;31m---------------------------------------------------------------------------\u001b[0m",
      "\u001b[1;31mTypeError\u001b[0m                                 Traceback (most recent call last)",
      "\u001b[1;32m<ipython-input-73-afb1b2b8d2dc>\u001b[0m in \u001b[0;36m<module>\u001b[1;34m\u001b[0m\n\u001b[0;32m     15\u001b[0m     \u001b[1;32mreturn\u001b[0m \u001b[0md\u001b[0m\u001b[1;33m\u001b[0m\u001b[1;33m\u001b[0m\u001b[0m\n\u001b[0;32m     16\u001b[0m \u001b[1;33m\u001b[0m\u001b[0m\n\u001b[1;32m---> 17\u001b[1;33m \u001b[0mprint\u001b[0m\u001b[1;33m(\u001b[0m\u001b[0mstrg\u001b[0m\u001b[1;33m(\u001b[0m\u001b[0ma\u001b[0m\u001b[1;33m)\u001b[0m\u001b[1;33m)\u001b[0m\u001b[1;33m\u001b[0m\u001b[1;33m\u001b[0m\u001b[0m\n\u001b[0m",
      "\u001b[1;32m<ipython-input-73-afb1b2b8d2dc>\u001b[0m in \u001b[0;36mstrg\u001b[1;34m(z)\u001b[0m\n\u001b[0;32m      9\u001b[0m             \u001b[0mlist\u001b[0m\u001b[1;33m.\u001b[0m\u001b[0mappend\u001b[0m\u001b[1;33m(\u001b[0m\u001b[0mb\u001b[0m\u001b[1;33m)\u001b[0m\u001b[1;33m\u001b[0m\u001b[1;33m\u001b[0m\u001b[0m\n\u001b[0;32m     10\u001b[0m         \u001b[1;32melse\u001b[0m\u001b[1;33m:\u001b[0m\u001b[1;33m\u001b[0m\u001b[1;33m\u001b[0m\u001b[0m\n\u001b[1;32m---> 11\u001b[1;33m             \u001b[0mlist\u001b[0m\u001b[1;33m.\u001b[0m\u001b[0mappend\u001b[0m\u001b[1;33m(\u001b[0m\u001b[0mb\u001b[0m\u001b[1;33m)\u001b[0m\u001b[1;33m\u001b[0m\u001b[1;33m\u001b[0m\u001b[0m\n\u001b[0m\u001b[0;32m     12\u001b[0m         \u001b[1;32mfor\u001b[0m \u001b[0mUC\u001b[0m \u001b[1;32min\u001b[0m \u001b[0mlist1\u001b[0m\u001b[1;33m:\u001b[0m\u001b[1;33m\u001b[0m\u001b[1;33m\u001b[0m\u001b[0m\n\u001b[0;32m     13\u001b[0m             \u001b[1;32mif\u001b[0m \u001b[0mUC\u001b[0m \u001b[1;32min\u001b[0m \u001b[0mlist1\u001b[0m\u001b[1;33m:\u001b[0m\u001b[1;33m\u001b[0m\u001b[1;33m\u001b[0m\u001b[0m\n",
      "\u001b[1;31mTypeError\u001b[0m: descriptor 'append' for 'list' objects doesn't apply to a 'str' object"
     ]
    }
   ],
   "source": []
  },
  {
   "cell_type": "code",
   "execution_count": 1,
   "metadata": {},
   "outputs": [
    {
     "name": "stdout",
     "output_type": "stream",
     "text": [
      "Enter a word: wertQWDE12Add\n",
      "The number of uppercases is:  5 .   The number of lowercases is:  6\n"
     ]
    }
   ],
   "source": [
    "Upc = ['A', 'B', 'C', 'D', 'E', 'F', 'G', 'H', 'I', 'J', 'K', 'L', 'M', 'N', 'O', 'P', 'Q', 'R', 'S', 'T', 'U', 'V', 'W', 'X', 'Y', 'Z']\n",
    "Lpc = ['a', 'b', 'c', 'd', 'e', 'f', 'g', 'h', 'i', 'j', 'k', 'l', 'm', 'n', 'o', 'p', 'q', 'r', 's', 't', 'u', 'v', 'w', 'x', 'y', 'z']\n",
    "a = input('Enter a word: ')\n",
    "list1 = list(a)\n",
    "# for b in list1:\n",
    "#     for UC[0:26] in b:\n",
    "#         t = len(b)\n",
    "#         if b in UC:\n",
    "#             c = len(b)\n",
    "count1 = 0\n",
    "count2 = 0\n",
    "for b in list1:\n",
    "    for r in b:\n",
    "        if r in Upc:\n",
    "            count1 = count1 + 1\n",
    "        if r in Lpc:\n",
    "            count2 = count2 + 1\n",
    "print(\"The number of uppercases is: \", count1, \".   The number of lowercases is: \", count2)\n",
    "# e = len(d)\n",
    "# print(e)       "
   ]
  },
  {
   "cell_type": "code",
   "execution_count": null,
   "metadata": {},
   "outputs": [],
   "source": [
    "    "
   ]
  },
  {
   "cell_type": "code",
   "execution_count": 2,
   "metadata": {},
   "outputs": [
    {
     "data": {
      "text/plain": [
       "[]"
      ]
     },
     "execution_count": 2,
     "metadata": {},
     "output_type": "execute_result"
    }
   ],
   "source": []
  },
  {
   "cell_type": "code",
   "execution_count": null,
   "metadata": {},
   "outputs": [],
   "source": []
  }
 ],
 "metadata": {
  "kernelspec": {
   "display_name": "Python 3",
   "language": "python",
   "name": "python3"
  },
  "language_info": {
   "codemirror_mode": {
    "name": "ipython",
    "version": 3
   },
   "file_extension": ".py",
   "mimetype": "text/x-python",
   "name": "python",
   "nbconvert_exporter": "python",
   "pygments_lexer": "ipython3",
   "version": "3.8.5"
  }
 },
 "nbformat": 4,
 "nbformat_minor": 4
}
