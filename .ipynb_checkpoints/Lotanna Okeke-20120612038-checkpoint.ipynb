{
 "cells": [
  {
   "cell_type": "code",
   "execution_count": 16,
   "metadata": {},
   "outputs": [
    {
     "name": "stdout",
     "output_type": "stream",
     "text": [
      "How many items were bought40\n",
      "The total cost of the items10000\n",
      "Total cost for  40 items is ₦10000\n",
      "Thanks for shopping\n"
     ]
    }
   ],
   "source": [
    "class Onlinestore:\n",
    "    def __init__(self, numberofitemsbought, totalcost):\n",
    "        self.numberofitemsbought = int(numberofitemsbought)\n",
    "        self.totalcost = int(totalcost)\n",
    "        \n",
    "    def calculator(self):\n",
    "        a = int(0.9*self.totalcost)\n",
    "        if self.numberofitemsbought<=10 and self.totalcost>100000:\n",
    "            print(\"Total cost for \", self.numberofitemsbought, f\"items is ₦{self.totalcost} with a discount of 10%, you would pay N{a}.\")\n",
    "        elif self.numberofitemsbought>10 and self.totalcost>100000:\n",
    "            print(\"Total cost for \", self.numberofitemsbought, f\"items is ₦{self.totalcost} with a discount of 10%, you would pay N{a}. You have a gift\")\n",
    "        else:\n",
    "            print(\"Total cost for \", self.numberofitemsbought, f\"items is ₦{self.totalcost}\")\n",
    "    @staticmethod\n",
    "    def thanks():\n",
    "        print('Thanks for shopping')\n",
    "    \n",
    "Store = Onlinestore(input(\"How many items were bought: \"), input(\"The total cost of the items: \"))\n",
    "Store.calculator()\n",
    "Onlinestore.thanks()"
   ]
  },
  {
   "cell_type": "code",
   "execution_count": null,
   "metadata": {},
   "outputs": [],
   "source": []
  }
 ],
 "metadata": {
  "kernelspec": {
   "display_name": "Python 3",
   "language": "python",
   "name": "python3"
  },
  "language_info": {
   "codemirror_mode": {
    "name": "ipython",
    "version": 3
   },
   "file_extension": ".py",
   "mimetype": "text/x-python",
   "name": "python",
   "nbconvert_exporter": "python",
   "pygments_lexer": "ipython3",
   "version": "3.8.5"
  }
 },
 "nbformat": 4,
 "nbformat_minor": 4
}
