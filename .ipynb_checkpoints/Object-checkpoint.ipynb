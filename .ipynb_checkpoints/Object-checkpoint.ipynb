{
 "cells": [
  {
   "cell_type": "code",
   "execution_count": 8,
   "metadata": {},
   "outputs": [
    {
     "name": "stdout",
     "output_type": "stream",
     "text": [
      "you now have your coffee with 2 milk, 0 sugar, and 1 coffeemate\n",
      "0\n",
      "you now have your coffee with 2 milk, 10 sugar, and 1 coffeemate\n",
      "10\n",
      "We have made 2 coffee cups so far!\n",
      "We have made 300 coffee cups so far!\n",
      "We have made 2 coffee cups so far!\n",
      "We have made 300 coffee cups so far!\n"
     ]
    }
   ],
   "source": [
    "class Coffee:\n",
    "    coffeeCupCounter = 0\n",
    "    \n",
    "    def __init__(self, themilk, thesugar, thecoffeeemate):\n",
    "        self.milk = themilk\n",
    "        self.sugar = thesugar\n",
    "        self.coffeemate = thecoffeeemate\n",
    "        Coffee.coffeeCupCounter += 1\n",
    "        print(f\"you now have your coffee with {self.milk} milk, {self.sugar} sugar, and {self.coffeemate} coffeemate\")\n",
    "        \n",
    "        \n",
    "mySugarFreeCoffee = Coffee(2, 0, 1)\n",
    "print(mySugarFreeCoffee.sugar)\n",
    "myMuchSugarCoffee = Coffee(2, 10, 1)\n",
    "print(myMuchSugarCoffee.sugar)\n",
    "print(f\"We have made {Coffee.coffeeCupCounter} coffee cups so far!\")\n",
    "Coffee.coffeeCupCounter = 300\n",
    "print(f\"We have made {mySugarFreeCoffee.coffeeCupCounter} coffee cups so far!\")\n",
    "print(f'We have made {myMuchSugarCoffee.milk} coffee cups so far!')\n",
    "print(f\"We have made {myMuchSugarCoffee.coffeeCupCounter} coffee cups so far!\")"
   ]
  },
  {
   "cell_type": "code",
   "execution_count": 9,
   "metadata": {},
   "outputs": [
    {
     "name": "stdout",
     "output_type": "stream",
     "text": [
      "We have a total of 0 that have logged in\n"
     ]
    }
   ],
   "source": [
    "class XBank:\n",
    "    loggedinCounter = 0\n",
    "    def __init__(self, theatmoin, theaccountbalance, thename):\n",
    "        self.atmpin = theatmoin\n",
    "        self.accountbalance = theaccountbalance\n",
    "        self.name = thename\n",
    "        XBank.loggedinCounter += 1\n",
    "        \n",
    "    def CollectMoney(self, amounttowithdraw):\n",
    "        if(amounttowithdraw > self.accountbalance):\n",
    "            print('Sorry we are not able to process at this time')\n",
    "        else:\n",
    "            print('Collect your cash...Thanks for banking with Xbank')\n",
    "            \n",
    "    def ChangePin(self, newPin):\n",
    "        self.atmpin = newPin\n",
    "        print('Your pin has been changed...Thanks for banking with Xbank')\n",
    "    @classmethod\n",
    "    def NoOfCustomersLoggedin (cls):\n",
    "        print(f'We have a total of {XBank.loggedinCounter} that have logged in')\n",
    "        \n",
    "        \n",
    "# XBank.NoOfCustomersLoggedin()       \n",
    "f = open(\"C:\\\\Users\\\\llota\\\\Documents\\\\database.txt\", 'r')\n",
    "\n",
    "#print(f.readline())\n",
    "# password = []\n",
    "# accountB = []\n",
    "# breaker = []\n",
    "# name = []x1\n",
    "# for x in f:\n",
    "#     breaker = x.split(' ')\n",
    "#     password.append(breaker[0])\n",
    "#     accountB.append(breaker[1])\n",
    "#     name.append(breaker[2])\n",
    "#     break\n",
    "\n",
    "# print('Enter your pin.....')\n",
    "\n",
    "# pasw = input()\n",
    "\n",
    "# if(pasw == password[0]):\n",
    "#     customer = XBank(password[0], accountB[0], name[0])\n",
    "#     print(customer.name)\n",
    "# #    Customer = [password[1], accountB[1], name[0]]\n",
    "# else: \n",
    "#     print('Sorry your passsword does not match')"
   ]
  },
  {
   "cell_type": "code",
   "execution_count": 22,
   "metadata": {},
   "outputs": [
    {
     "name": "stdout",
     "output_type": "stream",
     "text": [
      "James Kaka\n",
      "James Gaga\n",
      "210890\n",
      "Pau, here we come, Pau, here we come \n",
      "The student isn't above 16\n",
      "Registered course is CSC 102\n",
      "You would enroll for the course next semester\n",
      "Enter the number 4\n",
      "The number is even\n",
      "1\n"
     ]
    }
   ],
   "source": [
    "\n",
    "class Student:\n",
    "    studentLevel = 'first year computer science 2020/2021 session'\n",
    "    studentCounter = 0\n",
    "    registeredCourse = 'CSC 102'\n",
    "    def __init__(self, thename, thematricno, thesex, hostelname, age, csc102examscore):\n",
    "        self.name = thename\n",
    "        self.matricno = thematricno\n",
    "        self.sex = thesex\n",
    "        self.hostelname = hostelname\n",
    "        self.age = age\n",
    "        self.csc102examscore = csc102examscore\n",
    "        Student.studentCounter = Student.studentCounter + 1\n",
    "    \n",
    "    def agecheck(self):\n",
    "        if self.age > 16:\n",
    "            print(\"The student is above 16\")\n",
    "        else:\n",
    "            print(\"The student isn't above 16\")\n",
    "    \n",
    "    @classmethod\n",
    "    def course(cls):\n",
    "        print(\"Registered course is \" + cls.registeredCourse)\n",
    "        \n",
    "    def carry(self):\n",
    "        if self.csc102examscore < 45:\n",
    "            print(\"You would enroll for the course next semester\")\n",
    "        else:\n",
    "            print(\"Congratulations, you passed the class\")\n",
    "            \n",
    "    @staticmethod\n",
    "    def numberchecker(a):\n",
    "        if a%2 == 0:\n",
    "            print(\"The number is even\")\n",
    "        else:\n",
    "            print(\"The number is odd\")\n",
    "            \n",
    "    @classmethod\n",
    "    def counter(cls):\n",
    "        print(cls.studentCounter)\n",
    "    \n",
    "    def getName(self):\n",
    "         return  self.name\n",
    "\n",
    "    def setName(self, thenewName):\n",
    "         self.name = thenewName\n",
    "            \n",
    "    def newmatno(self, newmatno):\n",
    "        self.matricno = newmatno\n",
    "\n",
    "    @staticmethod\n",
    "    def PAUNanthem():\n",
    "        print('Pau, here we come, Pau, here we come ')\n",
    "\n",
    "studendt1 = Student('Killua', '044', 'M', 'Zoldyck', 12, 67)\n",
    "# studendt2 = Student('Kurapika', '404', 'M', 'Kurta', 16, 44)\n",
    "print(studendt1.getName())\n",
    "# print(studendt2.getName())\n",
    "studendt1.setName('James Gaga')\n",
    "print(studendt1.getName())\n",
    "studendt1.newmatno('210890')\n",
    "print(studendt1.matricno)\n",
    "Student.PAUNanthem()\n",
    "studendt1.agecheck()\n",
    "Student.course()\n",
    "studendt1.carry()\n",
    "Student.numberchecker(int(input(\"Enter the number \")))\n",
    "Student.counter()"
   ]
  },
  {
   "cell_type": "code",
   "execution_count": 29,
   "metadata": {},
   "outputs": [
    {
     "name": "stdout",
     "output_type": "stream",
     "text": [
      "James Kaka\n",
      "<__main__.Student object at 0x0000022B10896C70>\n",
      "James Gaga\n",
      "Pau, here we come, Pau, here we come \n"
     ]
    }
   ],
   "source": [
    "\n",
    "class Student:\n",
    "     studentLevel = 'first year computer science 2020/2021 session'\n",
    "     studentCounter = 0\n",
    "     def __init__(self, thename, thematricno, thesex):\n",
    "         self.name = thename\n",
    "         self.matricno = thematricno\n",
    "         self.sex = thesex\n",
    "         Student.studentCounter = Student.studentCounter\n",
    "\n",
    "     def getName(self):\n",
    "         return  self.name\n",
    "\n",
    "     def setName(self, thenewName):\n",
    "         self.name = thenewName\n",
    "\n",
    "     @staticmethod\n",
    "     def PAUNanthem():\n",
    "        print('Pau, here we come, Pau, here we come ')\n",
    "\n",
    "studendt1 = Student('James Kaka', '021074', 'M')\n",
    "print(studendt1.getName())\n",
    "studendt1.setName('James Gaga')\n",
    "# student1 = str(studendt1)\n",
    "# print(student1)\n",
    "print(studendt1.getName())\n",
    "Student.PAUNanthem()"
   ]
  },
  {
   "cell_type": "markdown",
   "metadata": {},
   "source": [
    "# Inheritance"
   ]
  },
  {
   "cell_type": "code",
   "execution_count": 4,
   "metadata": {},
   "outputs": [
    {
     "name": "stdout",
     "output_type": "stream",
     "text": [
      "Tim :\n",
      "I am Tim and I'm 19 years old\n",
      "I dont know what to say\n",
      "Bill :\n",
      "Meow\n",
      "Jill :\n",
      "Bark\n",
      "Bubbles :\n",
      "I dont know what to say\n"
     ]
    }
   ],
   "source": [
    "class Pet:\n",
    "    def __init__(self, name, age):\n",
    "        self.name = name\n",
    "        self.age = age\n",
    "        \n",
    "    def show(self):\n",
    "        print('I am', self.name, \"and I'm\", self.age, \"years old\")\n",
    "    \n",
    "    def speak(self):\n",
    "        print(\"I dont know what to say\")\n",
    "        \n",
    "class Cat(Pet):\n",
    "    def speak(self):\n",
    "        print(\"Meow\")\n",
    "        \n",
    "class Dog(Pet):\n",
    "    def speak(self):\n",
    "        print(\"Bark\")\n",
    "\n",
    "class Fish(Pet):\n",
    "        pass\n",
    "    \n",
    "p = Pet('Tim', 19)\n",
    "print(p.name, ':')\n",
    "p.show()\n",
    "p.speak()\n",
    "c = Cat(\"Bill\", 34)\n",
    "print(c.name, ':')\n",
    "c.speak()\n",
    "d = Dog(\"Jill\", 25)\n",
    "print(d.name, ':')\n",
    "d.speak()\n",
    "f = Fish(\"Bubbles\", 10)\n",
    "print(f.name, ':')\n",
    "f.speak()"
   ]
  },
  {
   "cell_type": "code",
   "execution_count": 21,
   "metadata": {},
   "outputs": [
    {
     "name": "stdout",
     "output_type": "stream",
     "text": [
      "There are only 20 oranges available\n",
      "Enter the quantity of oranges you want to buy: -5\n",
      "Thanks for buying our oranges\n"
     ]
    }
   ],
   "source": [
    "a = 20\n",
    "print(\"There are only\", a , \"oranges available\")\n",
    "class Stock():\n",
    "    def __init__(self, amount, quantity):\n",
    "        self.amount = amount\n",
    "        self.quantity = quantity\n",
    "    \n",
    "    def check(self):\n",
    "        if int(self.quantity)>a:\n",
    "            while int(self.quantity)>a:\n",
    "                print(\"Pls note that we only have\", a, \"oranges so choose a number that is within the available quantity\")\n",
    "                b = input(\"Enter a new quantity: \")\n",
    "                self.quantity = b\n",
    "                if int(self.quantity)<=0:\n",
    "                    while int(self.quantity)<0:\n",
    "                        print(\"Pls that amount of oranges can't be ordered, I think you made a typo error\")\n",
    "                        d = input(\"Enter a new quantity: \")\n",
    "                        self.quantity = d\n",
    "        if int(self.quantity)<=a and int(self.quantity)>0:\n",
    "            c = int(self.quantity) * int(self.amount)\n",
    "            print(c)\n",
    "        \n",
    "    @staticmethod\n",
    "    def thank():\n",
    "        print(\"Thanks for buying our oranges\")\n",
    "    \n",
    "stock = Stock(400, input(\"Enter the quantity of oranges you want to buy: \"))\n",
    "stock.check()\n",
    "Stock.thank()"
   ]
  },
  {
   "cell_type": "code",
   "execution_count": null,
   "metadata": {},
   "outputs": [
    {
     "name": "stdout",
     "output_type": "stream",
     "text": [
      "There are 60 oranges available\n",
      "Enter the quantity of oranges you want to buy: -68\n",
      "Pls that amount of oranges can't be ordered, I think you made a typo error\n",
      "Enter a new quantity: 7\n",
      "Thanks for buying our oranges\n",
      "There are 53 oranges available\n",
      "Enter the quantity of oranges you want to buy: 77\n",
      "Pls note that we only have 53 oranges so choose a number that is within the available quantity\n",
      "Enter a new quantity: -69\n",
      "Thanks for buying our oranges\n",
      "There are 122 oranges available\n"
     ]
    }
   ],
   "source": [
    "a = 60\n",
    "while a > 0:\n",
    "    print(\"There are\", a , \"oranges available\")\n",
    "    class Stock():\n",
    "        def __init__(self, amount, quantity):\n",
    "            self.amount = amount\n",
    "            self.quantity = quantity\n",
    "    \n",
    "        def check(self):\n",
    "            if int(self.quantity)>a:\n",
    "                while int(self.quantity)>a:\n",
    "                    print(\"Pls note that we only have\", a, \"oranges so choose a number that is within the available quantity\")\n",
    "                    b = input(\"Enter a new quantity: \")\n",
    "                    self.quantity = b\n",
    "            elif int(self.quantity)<=0:\n",
    "                while int(self.quantity)<0:\n",
    "                    print(\"Pls that amount of oranges can't be ordered, I think you made a typo error\")\n",
    "                    b = input(\"Enter a new quantity: \")\n",
    "                    self.quantity = b\n",
    "            elif int(self.quantity)<=a and int(self.quantity)>0:\n",
    "                c = int(self.quantity) * int(self.amount)\n",
    "                print(c)\n",
    "        \n",
    "        @staticmethod\n",
    "        def thank():\n",
    "            print(\"Thanks for buying our oranges\")\n",
    "    \n",
    "    stock = Stock(400, input(\"Enter the quantity of oranges you want to buy: \"))\n",
    "    stock.check()\n",
    "    Stock.thank()\n",
    "    qty = int(stock.quantity)\n",
    "    a = a-qty\n",
    "# if qty > 0:\n",
    "#     print(a)"
   ]
  },
  {
   "cell_type": "markdown",
   "metadata": {},
   "source": [
    "<h1>Lotanna</h1>"
   ]
  },
  {
   "cell_type": "code",
   "execution_count": 34,
   "metadata": {},
   "outputs": [
    {
     "name": "stdout",
     "output_type": "stream",
     "text": [
      "There are  20 pens available\n",
      "Enter the quantity of pens you want 9\n",
      "Enter the number of red pens2\n",
      "Enter the number of blue pens3\n",
      "Enter the number of blak pens4\n",
      "You picked  2 red pens and  3 blue pen and  4 black pens\n"
     ]
    }
   ],
   "source": [
    "a = 20\n",
    "class Pen:\n",
    "    print(\"There are \", a, 'pens available')\n",
    "    def __init__(self, amount, quantity):\n",
    "        self.quantity = quantity\n",
    "        self.amount = amount\n",
    "        \n",
    "    def color(self, red, blue, black):\n",
    "        self.red = red\n",
    "        self.blue = blue\n",
    "        self.black = black\n",
    "        \n",
    "   \n",
    "    def show(self):\n",
    "        if (int(self.red)+int(self.blue)+int(self.black))==int(self.quantity):\n",
    "            print(\"You picked \", self.red, \"red pens and \", self.blue, \"blue pen and \", self.black, \"black pens\")\n",
    "        \n",
    "        else:\n",
    "            print(\"The amount of pens you entered is not equal to the quantity originally requested\")\n",
    "        \n",
    "    \n",
    "\n",
    "pen = Pen(300, input(\"Enter the quantity of pens you want \"))\n",
    "\n",
    "pen.color(input(\"Enter the number of red pens\"), input(\"Enter the number of blue pens\"), input(\"Enter the number of blak pens\"))\n",
    "pen.show()"
   ]
  },
  {
   "cell_type": "markdown",
   "metadata": {},
   "source": [
    "## Polymerization"
   ]
  },
  {
   "cell_type": "markdown",
   "metadata": {},
   "source": [
    "### "
   ]
  },
  {
   "cell_type": "code",
   "execution_count": 2,
   "metadata": {},
   "outputs": [
    {
     "name": "stdout",
     "output_type": "stream",
     "text": [
      "There are many types of birds.\n",
      "Most of the birds can fly but some cannot.\n",
      "There are many types of birds.\n",
      "Sparrows can fly.\n",
      "There are many types of birds.\n",
      "Ostriches cannot fly.\n"
     ]
    }
   ],
   "source": [
    "class Bird:\n",
    "  def intro(self):\n",
    "    print(\"There are many types of birds.\")\n",
    "      \n",
    "  def flight(self):\n",
    "    print(\"Most of the birds can fly but some cannot.\")\n",
    "    \n",
    "class sparrow(Bird):\n",
    "  def flight(self):\n",
    "    print(\"Sparrows can fly.\")\n",
    "      \n",
    "class ostrich(Bird):\n",
    "  def flight(self):\n",
    "    print(\"Ostriches cannot fly.\")\n",
    "      \n",
    "obj_bird = Bird()\n",
    "obj_spr = sparrow()\n",
    "obj_ost = ostrich()\n",
    "  \n",
    "obj_bird.intro()\n",
    "obj_bird.flight()\n",
    "  \n",
    "obj_spr.intro()\n",
    "obj_spr.flight()\n",
    "  \n",
    "obj_ost.intro()\n",
    "obj_ost.flight()\n",
    "\n",
    "\n",
    "# Output:\n",
    "# # //There are many types of birds.\n",
    "# //Most of the birds can fly but some cannot.\n",
    "# //There are many types of birds.\n",
    "# //Sparrows can fly.\n",
    "# //There are many types of birds.\n",
    "# //Ostriches cannot fly."
   ]
  },
  {
   "cell_type": "markdown",
   "metadata": {},
   "source": [
    "## Abstraction"
   ]
  },
  {
   "cell_type": "code",
   "execution_count": 17,
   "metadata": {},
   "outputs": [
    {
     "name": "stdout",
     "output_type": "stream",
     "text": [
      "Area of the rectangle: 24\n",
      "Area of the circle: 50.24\n",
      "Perimeter of the circle: 43.96\n"
     ]
    }
   ],
   "source": [
    "from abc import ABC, abstractmethod\n",
    "class Shape(ABC):\n",
    "    @abstractmethod\n",
    "    def calc_area(self):\n",
    "        pass\n",
    "    \n",
    "class Rectangle(Shape):\n",
    "#     length = 0\n",
    "#     width = 4\n",
    "    def __init__(self, length, width):\n",
    "        self.length = length\n",
    "        self.width = width\n",
    "    def calc_area(self):\n",
    "        return self.length * self.width\n",
    "    \n",
    "class Circle(Shape):\n",
    "    radius = 4\n",
    "    def calc_area(self):\n",
    "        return 3.14*self.radius*self.radius\n",
    "    def peri(self):\n",
    "        return 3.14*2*7\n",
    "rec = Rectangle(6, 4)\n",
    "cir = Circle()\n",
    "print(\"Area of the rectangle:\", rec.calc_area())\n",
    "print(\"Area of the circle:\", cir.calc_area())\n",
    "print(\"Perimeter of the circle:\", cir.peri())"
   ]
  },
  {
   "cell_type": "code",
   "execution_count": 18,
   "metadata": {},
   "outputs": [
    {
     "ename": "SyntaxError",
     "evalue": "invalid syntax (<ipython-input-18-de93e6b3aa7a>, line 1)",
     "output_type": "error",
     "traceback": [
      "\u001b[1;36m  File \u001b[1;32m\"<ipython-input-18-de93e6b3aa7a>\"\u001b[1;36m, line \u001b[1;32m1\u001b[0m\n\u001b[1;33m    class Bird(ABC)\u001b[0m\n\u001b[1;37m                   ^\u001b[0m\n\u001b[1;31mSyntaxError\u001b[0m\u001b[1;31m:\u001b[0m invalid syntax\n"
     ]
    }
   ],
   "source": [
    "from abc import ABC, abstractmethod \n",
    "class Bird(ABC):\n",
    "    def defecate():\n",
    "        print(\"A bird deficates through it's anu\")"
   ]
  },
  {
   "cell_type": "code",
   "execution_count": null,
   "metadata": {},
   "outputs": [],
   "source": []
  }
 ],
 "metadata": {
  "kernelspec": {
   "display_name": "Python 3",
   "language": "python",
   "name": "python3"
  },
  "language_info": {
   "codemirror_mode": {
    "name": "ipython",
    "version": 3
   },
   "file_extension": ".py",
   "mimetype": "text/x-python",
   "name": "python",
   "nbconvert_exporter": "python",
   "pygments_lexer": "ipython3",
   "version": "3.8.5"
  }
 },
 "nbformat": 4,
 "nbformat_minor": 4
}
