{
 "cells": [
  {
   "cell_type": "markdown",
   "metadata": {},
   "source": [
    "## Checking if a number is odd or even"
   ]
  },
  {
   "cell_type": "code",
   "execution_count": 3,
   "metadata": {},
   "outputs": [
    {
     "name": "stdout",
     "output_type": "stream",
     "text": [
      "Enter the number11\n",
      "Its an odd number\n"
     ]
    }
   ],
   "source": [
    "a = int(input(\"Enter the number: \"))\n",
    "if a%2 == 0:\n",
    "    print(\"Its an even number\")\n",
    "else:\n",
    "    print(\"Its an odd number\")"
   ]
  },
  {
   "cell_type": "markdown",
   "metadata": {},
   "source": [
    "## Checking if the addition of two numbers is even or add"
   ]
  },
  {
   "cell_type": "code",
   "execution_count": 4,
   "metadata": {},
   "outputs": [
    {
     "name": "stdout",
     "output_type": "stream",
     "text": [
      "Enter the first number of fingers12\n",
      "Enter the second number of fingers5\n",
      "Jane wins\n"
     ]
    }
   ],
   "source": [
    "a = int(input(\"Enter the first number of fingers\"))\n",
    "b = int(input(\"Enter the second number of fingers\"))\n",
    "c = a+b\n",
    "if c%2 == 0:\n",
    "    print(\"Jack wins\")\n",
    "else:\n",
    "    print(\"Jane wins\")"
   ]
  },
  {
   "cell_type": "markdown",
   "metadata": {},
   "source": [
    "# Creating Table for an observation"
   ]
  },
  {
   "cell_type": "code",
   "execution_count": 9,
   "metadata": {},
   "outputs": [
    {
     "data": {
      "text/plain": [
       "0.019893055594160904"
      ]
     },
     "execution_count": 9,
     "metadata": {},
     "output_type": "execute_result"
    }
   ],
   "source": [
    "RD = [14,16,14,17,16,15,16,16,17,14]\n",
    "Admin = [5.5,6,5.4,5.9,5.6,5.7,5.9,5.8,6.1,5]\n",
    "Spend = [80,85,70,60,76,85,74,87,75,68]\n",
    "States = [\"Ann\", \"Jane\", \"Joan\", \"Claire\", \"Elizabeth\", \"Charles\", \"Jude\", \"James\", \"Kelvin\", \"Prosper\"]\n",
    "Profit = [8,5,0,6,7,1,4,3,2,6]\n",
    "tab = {\"R&D Spend\": RD, \"Administration\": Admin, \"Marketing Spend\": Spend, \"State\": States, \"Profit\": Profit}\n",
    "tab\n",
    "import pandas\n",
    "# import math\n",
    "# # dir(pandas)\n",
    "# math.sin(4/(2*360.0*math.pi))\n",
    "# dir(pandas)\n",
    "data = pandas.DataFrame(tab)\n",
    "# data.head(5)\n",
    "print(data)\n",
    "data.to_excel('data2.xlsx', index+=1)"
   ]
  },
  {
   "cell_type": "code",
   "execution_count": 12,
   "metadata": {},
   "outputs": [
    {
     "data": {
      "text/html": [
       "<div>\n",
       "<style scoped>\n",
       "    .dataframe tbody tr th:only-of-type {\n",
       "        vertical-align: middle;\n",
       "    }\n",
       "\n",
       "    .dataframe tbody tr th {\n",
       "        vertical-align: top;\n",
       "    }\n",
       "\n",
       "    .dataframe thead th {\n",
       "        text-align: right;\n",
       "    }\n",
       "</style>\n",
       "<table border=\"1\" class=\"dataframe\">\n",
       "  <thead>\n",
       "    <tr style=\"text-align: right;\">\n",
       "      <th></th>\n",
       "      <th>R&amp;D Spend</th>\n",
       "      <th>Administration</th>\n",
       "      <th>Marketing Spend</th>\n",
       "      <th>State</th>\n",
       "      <th>Profit</th>\n",
       "    </tr>\n",
       "  </thead>\n",
       "  <tbody>\n",
       "    <tr>\n",
       "      <th>0</th>\n",
       "      <td>14</td>\n",
       "      <td>5.5</td>\n",
       "      <td>80</td>\n",
       "      <td>Ann</td>\n",
       "      <td>8</td>\n",
       "    </tr>\n",
       "    <tr>\n",
       "      <th>1</th>\n",
       "      <td>16</td>\n",
       "      <td>6.0</td>\n",
       "      <td>85</td>\n",
       "      <td>Jane</td>\n",
       "      <td>5</td>\n",
       "    </tr>\n",
       "    <tr>\n",
       "      <th>2</th>\n",
       "      <td>14</td>\n",
       "      <td>5.4</td>\n",
       "      <td>70</td>\n",
       "      <td>Joan</td>\n",
       "      <td>0</td>\n",
       "    </tr>\n",
       "    <tr>\n",
       "      <th>3</th>\n",
       "      <td>17</td>\n",
       "      <td>5.9</td>\n",
       "      <td>60</td>\n",
       "      <td>Claire</td>\n",
       "      <td>6</td>\n",
       "    </tr>\n",
       "    <tr>\n",
       "      <th>4</th>\n",
       "      <td>16</td>\n",
       "      <td>5.6</td>\n",
       "      <td>76</td>\n",
       "      <td>Elizabeth</td>\n",
       "      <td>7</td>\n",
       "    </tr>\n",
       "  </tbody>\n",
       "</table>\n",
       "</div>"
      ],
      "text/plain": [
       "   R&D Spend  Administration  Marketing Spend      State  Profit\n",
       "0         14             5.5               80        Ann       8\n",
       "1         16             6.0               85       Jane       5\n",
       "2         14             5.4               70       Joan       0\n",
       "3         17             5.9               60     Claire       6\n",
       "4         16             5.6               76  Elizabeth       7"
      ]
     },
     "execution_count": 12,
     "metadata": {},
     "output_type": "execute_result"
    }
   ],
   "source": [
    "data.head(5)"
   ]
  },
  {
   "cell_type": "code",
   "execution_count": 13,
   "metadata": {},
   "outputs": [
    {
     "data": {
      "text/html": [
       "<div>\n",
       "<style scoped>\n",
       "    .dataframe tbody tr th:only-of-type {\n",
       "        vertical-align: middle;\n",
       "    }\n",
       "\n",
       "    .dataframe tbody tr th {\n",
       "        vertical-align: top;\n",
       "    }\n",
       "\n",
       "    .dataframe thead th {\n",
       "        text-align: right;\n",
       "    }\n",
       "</style>\n",
       "<table border=\"1\" class=\"dataframe\">\n",
       "  <thead>\n",
       "    <tr style=\"text-align: right;\">\n",
       "      <th></th>\n",
       "      <th>R&amp;D Spend</th>\n",
       "      <th>Administration</th>\n",
       "      <th>Marketing Spend</th>\n",
       "      <th>State</th>\n",
       "      <th>Profit</th>\n",
       "    </tr>\n",
       "  </thead>\n",
       "  <tbody>\n",
       "    <tr>\n",
       "      <th>5</th>\n",
       "      <td>15</td>\n",
       "      <td>5.7</td>\n",
       "      <td>85</td>\n",
       "      <td>Charles</td>\n",
       "      <td>1</td>\n",
       "    </tr>\n",
       "    <tr>\n",
       "      <th>6</th>\n",
       "      <td>16</td>\n",
       "      <td>5.9</td>\n",
       "      <td>74</td>\n",
       "      <td>Jude</td>\n",
       "      <td>4</td>\n",
       "    </tr>\n",
       "    <tr>\n",
       "      <th>7</th>\n",
       "      <td>16</td>\n",
       "      <td>5.8</td>\n",
       "      <td>87</td>\n",
       "      <td>James</td>\n",
       "      <td>3</td>\n",
       "    </tr>\n",
       "    <tr>\n",
       "      <th>8</th>\n",
       "      <td>17</td>\n",
       "      <td>6.1</td>\n",
       "      <td>75</td>\n",
       "      <td>Kelvin</td>\n",
       "      <td>2</td>\n",
       "    </tr>\n",
       "    <tr>\n",
       "      <th>9</th>\n",
       "      <td>14</td>\n",
       "      <td>5.0</td>\n",
       "      <td>68</td>\n",
       "      <td>Prosper</td>\n",
       "      <td>6</td>\n",
       "    </tr>\n",
       "  </tbody>\n",
       "</table>\n",
       "</div>"
      ],
      "text/plain": [
       "   R&D Spend  Administration  Marketing Spend    State  Profit\n",
       "5         15             5.7               85  Charles       1\n",
       "6         16             5.9               74     Jude       4\n",
       "7         16             5.8               87    James       3\n",
       "8         17             6.1               75   Kelvin       2\n",
       "9         14             5.0               68  Prosper       6"
      ]
     },
     "execution_count": 13,
     "metadata": {},
     "output_type": "execute_result"
    }
   ],
   "source": [
    "data.tail(5)"
   ]
  },
  {
   "cell_type": "code",
   "execution_count": 15,
   "metadata": {},
   "outputs": [
    {
     "data": {
      "text/plain": [
       "Index(['R&D Spend', 'Administration', 'Marketing Spend', 'State', 'Profit'], dtype='object')"
      ]
     },
     "execution_count": 15,
     "metadata": {},
     "output_type": "execute_result"
    }
   ],
   "source": [
    "data.columns"
   ]
  },
  {
   "cell_type": "markdown",
   "metadata": {},
   "source": [
    "### To read the excel in python"
   ]
  },
  {
   "cell_type": "code",
   "execution_count": 16,
   "metadata": {},
   "outputs": [
    {
     "data": {
      "text/html": [
       "<div>\n",
       "<style scoped>\n",
       "    .dataframe tbody tr th:only-of-type {\n",
       "        vertical-align: middle;\n",
       "    }\n",
       "\n",
       "    .dataframe tbody tr th {\n",
       "        vertical-align: top;\n",
       "    }\n",
       "\n",
       "    .dataframe thead th {\n",
       "        text-align: right;\n",
       "    }\n",
       "</style>\n",
       "<table border=\"1\" class=\"dataframe\">\n",
       "  <thead>\n",
       "    <tr style=\"text-align: right;\">\n",
       "      <th></th>\n",
       "      <th>R&amp;D Spend</th>\n",
       "      <th>Administration</th>\n",
       "      <th>Marketing Spend</th>\n",
       "      <th>State</th>\n",
       "      <th>Profit</th>\n",
       "    </tr>\n",
       "  </thead>\n",
       "  <tbody>\n",
       "    <tr>\n",
       "      <th>0</th>\n",
       "      <td>14</td>\n",
       "      <td>5.5</td>\n",
       "      <td>80</td>\n",
       "      <td>Ann</td>\n",
       "      <td>8</td>\n",
       "    </tr>\n",
       "    <tr>\n",
       "      <th>1</th>\n",
       "      <td>16</td>\n",
       "      <td>6.0</td>\n",
       "      <td>85</td>\n",
       "      <td>Jane</td>\n",
       "      <td>5</td>\n",
       "    </tr>\n",
       "    <tr>\n",
       "      <th>2</th>\n",
       "      <td>14</td>\n",
       "      <td>5.4</td>\n",
       "      <td>70</td>\n",
       "      <td>Joan</td>\n",
       "      <td>0</td>\n",
       "    </tr>\n",
       "    <tr>\n",
       "      <th>3</th>\n",
       "      <td>17</td>\n",
       "      <td>5.9</td>\n",
       "      <td>60</td>\n",
       "      <td>Claire</td>\n",
       "      <td>6</td>\n",
       "    </tr>\n",
       "    <tr>\n",
       "      <th>4</th>\n",
       "      <td>16</td>\n",
       "      <td>5.6</td>\n",
       "      <td>76</td>\n",
       "      <td>Elizabeth</td>\n",
       "      <td>7</td>\n",
       "    </tr>\n",
       "    <tr>\n",
       "      <th>5</th>\n",
       "      <td>15</td>\n",
       "      <td>5.7</td>\n",
       "      <td>85</td>\n",
       "      <td>Charles</td>\n",
       "      <td>1</td>\n",
       "    </tr>\n",
       "    <tr>\n",
       "      <th>6</th>\n",
       "      <td>16</td>\n",
       "      <td>5.9</td>\n",
       "      <td>74</td>\n",
       "      <td>Jude</td>\n",
       "      <td>4</td>\n",
       "    </tr>\n",
       "    <tr>\n",
       "      <th>7</th>\n",
       "      <td>16</td>\n",
       "      <td>5.8</td>\n",
       "      <td>87</td>\n",
       "      <td>James</td>\n",
       "      <td>3</td>\n",
       "    </tr>\n",
       "    <tr>\n",
       "      <th>8</th>\n",
       "      <td>17</td>\n",
       "      <td>6.1</td>\n",
       "      <td>75</td>\n",
       "      <td>Kelvin</td>\n",
       "      <td>2</td>\n",
       "    </tr>\n",
       "    <tr>\n",
       "      <th>9</th>\n",
       "      <td>14</td>\n",
       "      <td>5.0</td>\n",
       "      <td>68</td>\n",
       "      <td>Prosper</td>\n",
       "      <td>6</td>\n",
       "    </tr>\n",
       "  </tbody>\n",
       "</table>\n",
       "</div>"
      ],
      "text/plain": [
       "   R&D Spend  Administration  Marketing Spend      State  Profit\n",
       "0         14             5.5               80        Ann       8\n",
       "1         16             6.0               85       Jane       5\n",
       "2         14             5.4               70       Joan       0\n",
       "3         17             5.9               60     Claire       6\n",
       "4         16             5.6               76  Elizabeth       7\n",
       "5         15             5.7               85    Charles       1\n",
       "6         16             5.9               74       Jude       4\n",
       "7         16             5.8               87      James       3\n",
       "8         17             6.1               75     Kelvin       2\n",
       "9         14             5.0               68    Prosper       6"
      ]
     },
     "execution_count": 16,
     "metadata": {},
     "output_type": "execute_result"
    }
   ],
   "source": [
    "pandas.read_excel(\"data2.xlsx\")"
   ]
  },
  {
   "cell_type": "markdown",
   "metadata": {},
   "source": [
    "## Checking speed in km/hr"
   ]
  },
  {
   "cell_type": "code",
   "execution_count": 5,
   "metadata": {},
   "outputs": [
    {
     "name": "stdout",
     "output_type": "stream",
     "text": [
      "Enter the distance in miles: 34567\n",
      "Enter the time taken to cover the distance: 89\n",
      "The speed of the car in km/hr is:  241.33698188509965\n"
     ]
    }
   ],
   "source": [
    "a = float(input(\"Enter the distance in miles: \"))\n",
    "b = float(input(\"Enter the time taken to cover the distance: \"))\n",
    "c = a/1.60934\n",
    "d = c/b\n",
    "print(\"The speed of the car in km/hr is: \", d)"
   ]
  },
  {
   "cell_type": "markdown",
   "metadata": {},
   "source": [
    "## Solving quadratic equation"
   ]
  },
  {
   "cell_type": "code",
   "execution_count": 2,
   "metadata": {},
   "outputs": [
    {
     "name": "stdout",
     "output_type": "stream",
     "text": [
      "Enter the value of a1\n",
      "Enter the value of b5\n",
      "Enter the value of c-2\n",
      "0.7445626465380286 -10.744562646538029\n"
     ]
    }
   ],
   "source": [
    "a = float(input(\"Enter the value of a\"))\n",
    "b = float(input(\"Enter the value of b\"))\n",
    "c = float(input(\"Enter the value of c\"))\n",
    "d = (b**2)-(4*a*c)\n",
    "x1 = (-b + (d**(0.5)))\n",
    "x2 = (-b - (d**(0.5)))\n",
    "if d == 0:\n",
    "    print(x1)\n",
    "else:\n",
    "    print(x1, x2)"
   ]
  },
  {
   "cell_type": "code",
   "execution_count": null,
   "metadata": {},
   "outputs": [],
   "source": []
  }
 ],
 "metadata": {
  "kernelspec": {
   "display_name": "Python 3",
   "language": "python",
   "name": "python3"
  },
  "language_info": {
   "codemirror_mode": {
    "name": "ipython",
    "version": 3
   },
   "file_extension": ".py",
   "mimetype": "text/x-python",
   "name": "python",
   "nbconvert_exporter": "python",
   "pygments_lexer": "ipython3",
   "version": "3.8.5"
  }
 },
 "nbformat": 4,
 "nbformat_minor": 4
}
